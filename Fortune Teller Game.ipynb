{
 "cells": [
  {
   "cell_type": "markdown",
   "id": "0de29fe8",
   "metadata": {},
   "source": [
    "# Description\n",
    "The project in the Super Data Science Python Masterclass is a simple fortune teller game based on the [paper fortune teller](https://en.wikipedia.org/wiki/Paper_fortune_teller) game often played by children."
   ]
  },
  {
   "cell_type": "code",
   "execution_count": null,
   "id": "4bcadd76",
   "metadata": {},
   "outputs": [],
   "source": [
    "print(\"Welcome to the Fortune Teller!\")\n",
    "print(\"To play, select a color and a number, and I will tell you what your future holds.\")\n",
    "\n",
    "answer = \"y\"\n",
    "\n",
    "while answer == \"y\":\n",
    "    \n",
    "    color = input(\"Select a color [yellow, green, blue, red]: \").lower()\n",
    "    \n",
    "    if color == \"yellow\" or color == \"green\":\n",
    "        \n",
    "        number = input(\"Select a number [1, 2, 5, 6]: \")\n",
    "        \n",
    "        if number == \"1\":\n",
    "            print(\"Worried about your future career? Don't worry. You'll acheive all your dreams. Be patient!\")\n",
    "        elif number == \"2\":\n",
    "            print(\"You will become a millionaire at the age of 35!\")\n",
    "        elif number == \"5\":\n",
    "            print(\"You will have a great family with 10 kids!\")\n",
    "        elif number == \"6\":\n",
    "            print(\"You will become famous and everyone will love you!\")\n",
    "        else:\n",
    "            print(\"Only the numbers 1, 2, 5 or 6 are allowed!\")\n",
    "        \n",
    "    elif color == \"blue\" or color == \"red\":\n",
    "        \n",
    "        number = input(\"Select a number [3, 4, 7, 8]: \")\n",
    "        \n",
    "        if number == \"3\":\n",
    "            print(\"You will live a happy life for at least 100 years!\")\n",
    "        elif number == \"4\":\n",
    "            print(\"You will become a successful doctor!\")\n",
    "        elif number == \"7\":\n",
    "            print(\"All your dreams will come true. Just be patient!\")\n",
    "        elif number == \"8\":\n",
    "            print(\"You're lucky. You will have it all one day!\")\n",
    "        else:\n",
    "            print(\"Only the numbers 3, 4, 7 or 8 are allowed!\")\n",
    "        \n",
    "    else:\n",
    "        print(\"Only the colors yellow, green, blue or red are allowed!\")\n",
    "    \n",
    "    answer = input(\"Play again? [y]es or [n]o: \").lower()"
   ]
  }
 ],
 "metadata": {
  "kernelspec": {
   "display_name": "Python 3",
   "language": "python",
   "name": "python3"
  },
  "language_info": {
   "codemirror_mode": {
    "name": "ipython",
    "version": 3
   },
   "file_extension": ".py",
   "mimetype": "text/x-python",
   "name": "python",
   "nbconvert_exporter": "python",
   "pygments_lexer": "ipython3",
   "version": "3.8.8"
  }
 },
 "nbformat": 4,
 "nbformat_minor": 5
}
